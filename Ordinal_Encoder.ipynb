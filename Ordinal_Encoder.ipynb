{
 "cells": [
  {
   "cell_type": "code",
   "execution_count": 4,
   "id": "7f9aea59-d2c0-4a5d-98de-692f9b7a9ccc",
   "metadata": {},
   "outputs": [],
   "source": [
    "import pandas as pd"
   ]
  },
  {
   "cell_type": "code",
   "execution_count": 7,
   "id": "9d38901d-671e-4a81-b095-d03396917d96",
   "metadata": {},
   "outputs": [],
   "source": [
    "#sample data\n",
    "data = {\n",
    "    \n",
    "    'CustomerID' : ['C001', 'C002', 'C003', 'C004', 'C005'],\n",
    "    'Education_level' : ['High School', 'Bachelors', 'Master', 'phD','Bachelors'],\n",
    "    'Product_Quality' : ['low', 'medium', 'High', 'medium','low'],\n",
    "    'Satisfaction_level' : ['Poor', 'Average', 'Excellent', 'Good','poor']\n",
    "}\n",
    "\n",
    "\n",
    "df=pd.DataFrame(data)\n"
   ]
  },
  {
   "cell_type": "code",
   "execution_count": 9,
   "id": "7a1c1410-e685-48fd-b38e-68129ac8e7aa",
   "metadata": {},
   "outputs": [
    {
     "data": {
      "text/html": [
       "<div>\n",
       "<style scoped>\n",
       "    .dataframe tbody tr th:only-of-type {\n",
       "        vertical-align: middle;\n",
       "    }\n",
       "\n",
       "    .dataframe tbody tr th {\n",
       "        vertical-align: top;\n",
       "    }\n",
       "\n",
       "    .dataframe thead th {\n",
       "        text-align: right;\n",
       "    }\n",
       "</style>\n",
       "<table border=\"1\" class=\"dataframe\">\n",
       "  <thead>\n",
       "    <tr style=\"text-align: right;\">\n",
       "      <th></th>\n",
       "      <th>CustomerID</th>\n",
       "      <th>Education_level</th>\n",
       "      <th>Product_Quality</th>\n",
       "      <th>Satisfaction_level</th>\n",
       "    </tr>\n",
       "  </thead>\n",
       "  <tbody>\n",
       "    <tr>\n",
       "      <th>0</th>\n",
       "      <td>C001</td>\n",
       "      <td>High School</td>\n",
       "      <td>low</td>\n",
       "      <td>Poor</td>\n",
       "    </tr>\n",
       "    <tr>\n",
       "      <th>1</th>\n",
       "      <td>C002</td>\n",
       "      <td>Bachelors</td>\n",
       "      <td>medium</td>\n",
       "      <td>Average</td>\n",
       "    </tr>\n",
       "    <tr>\n",
       "      <th>2</th>\n",
       "      <td>C003</td>\n",
       "      <td>Master</td>\n",
       "      <td>High</td>\n",
       "      <td>Excellent</td>\n",
       "    </tr>\n",
       "    <tr>\n",
       "      <th>3</th>\n",
       "      <td>C004</td>\n",
       "      <td>phD</td>\n",
       "      <td>medium</td>\n",
       "      <td>Good</td>\n",
       "    </tr>\n",
       "    <tr>\n",
       "      <th>4</th>\n",
       "      <td>C005</td>\n",
       "      <td>Bachelors</td>\n",
       "      <td>low</td>\n",
       "      <td>poors</td>\n",
       "    </tr>\n",
       "  </tbody>\n",
       "</table>\n",
       "</div>"
      ],
      "text/plain": [
       "  CustomerID Education_level Product_Quality Satisfaction_level\n",
       "0       C001     High School             low               Poor\n",
       "1       C002       Bachelors          medium            Average\n",
       "2       C003          Master            High          Excellent\n",
       "3       C004             phD          medium               Good\n",
       "4       C005       Bachelors             low              poors"
      ]
     },
     "execution_count": 9,
     "metadata": {},
     "output_type": "execute_result"
    }
   ],
   "source": [
    "df"
   ]
  },
  {
   "cell_type": "code",
   "execution_count": 10,
   "id": "e91b263f-798c-4227-ac48-6be2807f1161",
   "metadata": {},
   "outputs": [],
   "source": [
    "#Define the order for each ordinal feature\n",
    "education_order=['High School', 'Bachelors', 'Master', 'phD']\n",
    "product_quality_order=['Low', 'medium', 'High']\n",
    "satisfaction_order=['Poor','Average', 'Good', 'Excellent']"
   ]
  },
  {
   "cell_type": "code",
   "execution_count": 11,
   "id": "a984b528-60e5-4c01-9a0b-e1ea9a1a0476",
   "metadata": {},
   "outputs": [],
   "source": [
    "from sklearn.preprocessing import OrdinalEncoder"
   ]
  },
  {
   "cell_type": "code",
   "execution_count": 7,
   "id": "af9cde23-938f-4dc9-beaf-70857a46bbf3",
   "metadata": {},
   "outputs": [],
   "source": [
    "encoder=OrdinalEncoder(categories=[education_order, product_quality_order, satisfaction_order])"
   ]
  },
  {
   "cell_type": "code",
   "execution_count": null,
   "id": "cc648572-b14f-4bf4-845b-d2f714a28a52",
   "metadata": {},
   "outputs": [],
   "source": [
    "#Apply encoding\n",
    "df[['Education_level', 'Product_Quality', 'Satisfaction_level']]=encoder.fit_transform(\n",
    "df[['Edicatopn_level', 'Product_Quality', 'Satisfaction_level']]\n",
    ")"
   ]
  },
  {
   "cell_type": "code",
   "execution_count": 14,
   "id": "806d1147-d99c-4af1-a533-c629cc395f01",
   "metadata": {},
   "outputs": [
    {
     "data": {
      "text/html": [
       "<div>\n",
       "<style scoped>\n",
       "    .dataframe tbody tr th:only-of-type {\n",
       "        vertical-align: middle;\n",
       "    }\n",
       "\n",
       "    .dataframe tbody tr th {\n",
       "        vertical-align: top;\n",
       "    }\n",
       "\n",
       "    .dataframe thead th {\n",
       "        text-align: right;\n",
       "    }\n",
       "</style>\n",
       "<table border=\"1\" class=\"dataframe\">\n",
       "  <thead>\n",
       "    <tr style=\"text-align: right;\">\n",
       "      <th></th>\n",
       "      <th>CustomerID</th>\n",
       "      <th>Education_level</th>\n",
       "      <th>Product_Quality</th>\n",
       "      <th>Satisfaction_level</th>\n",
       "    </tr>\n",
       "  </thead>\n",
       "  <tbody>\n",
       "    <tr>\n",
       "      <th>0</th>\n",
       "      <td>C001</td>\n",
       "      <td>High School</td>\n",
       "      <td>low</td>\n",
       "      <td>Poor</td>\n",
       "    </tr>\n",
       "    <tr>\n",
       "      <th>1</th>\n",
       "      <td>C002</td>\n",
       "      <td>Bachelors</td>\n",
       "      <td>medium</td>\n",
       "      <td>Average</td>\n",
       "    </tr>\n",
       "    <tr>\n",
       "      <th>2</th>\n",
       "      <td>C003</td>\n",
       "      <td>Master</td>\n",
       "      <td>High</td>\n",
       "      <td>Excellent</td>\n",
       "    </tr>\n",
       "    <tr>\n",
       "      <th>3</th>\n",
       "      <td>C004</td>\n",
       "      <td>phD</td>\n",
       "      <td>medium</td>\n",
       "      <td>Good</td>\n",
       "    </tr>\n",
       "    <tr>\n",
       "      <th>4</th>\n",
       "      <td>C005</td>\n",
       "      <td>Bachelors</td>\n",
       "      <td>low</td>\n",
       "      <td>poors</td>\n",
       "    </tr>\n",
       "  </tbody>\n",
       "</table>\n",
       "</div>"
      ],
      "text/plain": [
       "  CustomerID Education_level Product_Quality Satisfaction_level\n",
       "0       C001     High School             low               Poor\n",
       "1       C002       Bachelors          medium            Average\n",
       "2       C003          Master            High          Excellent\n",
       "3       C004             phD          medium               Good\n",
       "4       C005       Bachelors             low              poors"
      ]
     },
     "execution_count": 14,
     "metadata": {},
     "output_type": "execute_result"
    }
   ],
   "source": [
    "df"
   ]
  },
  {
   "cell_type": "code",
   "execution_count": null,
   "id": "8480c282-dfc2-4a08-af1d-350a27c089bd",
   "metadata": {},
   "outputs": [],
   "source": []
  }
 ],
 "metadata": {
  "kernelspec": {
   "display_name": "Python [conda env:base] *",
   "language": "python",
   "name": "conda-base-py"
  },
  "language_info": {
   "codemirror_mode": {
    "name": "ipython",
    "version": 3
   },
   "file_extension": ".py",
   "mimetype": "text/x-python",
   "name": "python",
   "nbconvert_exporter": "python",
   "pygments_lexer": "ipython3",
   "version": "3.12.7"
  }
 },
 "nbformat": 4,
 "nbformat_minor": 5
}
