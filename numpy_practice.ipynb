{
 "cells": [
  {
   "cell_type": "code",
   "execution_count": 1,
   "id": "37dc0a2b-979c-4671-87f6-f7605cb3d73b",
   "metadata": {},
   "outputs": [],
   "source": [
    "#import numpy\n",
    "import numpy as np"
   ]
  },
  {
   "cell_type": "code",
   "execution_count": 23,
   "id": "3be77ff7-9c6b-4991-a7ae-c479c087ee7f",
   "metadata": {},
   "outputs": [
    {
     "name": "stdout",
     "output_type": "stream",
     "text": [
      "[10 20 30 40 50]\n",
      "<class 'numpy.ndarray'>\n"
     ]
    }
   ],
   "source": [
    "#checking the datatype of an array\n",
    "arr = np.array([10,20,30,40,50])\n",
    "print(arr)\n",
    "print(type(arr))"
   ]
  },
  {
   "cell_type": "code",
   "execution_count": 24,
   "id": "3fbc2d5f-0a67-4128-b541-fbc368147382",
   "metadata": {},
   "outputs": [
    {
     "name": "stdout",
     "output_type": "stream",
     "text": [
      "1.26.4\n"
     ]
    }
   ],
   "source": [
    "#cheacking numpy version \n",
    "print(np.__version__)"
   ]
  },
  {
   "cell_type": "code",
   "execution_count": 25,
   "id": "1b5df8c8-e593-46c0-a47c-256dc65d171e",
   "metadata": {},
   "outputs": [
    {
     "name": "stdout",
     "output_type": "stream",
     "text": [
      "[1, 2, 3, 4, 5]\n"
     ]
    }
   ],
   "source": [
    "#list\n",
    "list=[1,2,3,4,5]\n",
    "print(list)"
   ]
  },
  {
   "cell_type": "code",
   "execution_count": 26,
   "id": "0fd5afba-f801-42a0-b752-237d0a508266",
   "metadata": {},
   "outputs": [
    {
     "name": "stdout",
     "output_type": "stream",
     "text": [
      "43\n",
      "0\n"
     ]
    }
   ],
   "source": [
    "#0D array\n",
    "arr=np.array(43)\n",
    "print(arr)\n",
    "print(arr.ndim)"
   ]
  },
  {
   "cell_type": "code",
   "execution_count": 27,
   "id": "d3b3b872-deff-4255-afad-8ae111fdfe2c",
   "metadata": {},
   "outputs": [
    {
     "name": "stdout",
     "output_type": "stream",
     "text": [
      "[10 20 30 40 50]\n",
      "1\n"
     ]
    }
   ],
   "source": [
    "#1D array\n",
    "arr=np.array([10,20,30,40,50])\n",
    "print(arr)\n",
    "print(arr.ndim)"
   ]
  },
  {
   "cell_type": "code",
   "execution_count": 28,
   "id": "4e5ff7fa-55a3-42e5-b7ac-f663c3f759ef",
   "metadata": {},
   "outputs": [
    {
     "name": "stdout",
     "output_type": "stream",
     "text": [
      "[[ 1  2  3  4  5]\n",
      " [ 6  7  8  9 10]]\n",
      "2\n"
     ]
    }
   ],
   "source": [
    "#2D array\n",
    "arr=np.array([[1,2,3,4,5],[6,7,8,9,10]])\n",
    "print(arr)\n",
    "print(arr.ndim)"
   ]
  },
  {
   "cell_type": "code",
   "execution_count": 29,
   "id": "085d25f6-ef1d-4b46-b046-e91721dd64a0",
   "metadata": {},
   "outputs": [
    {
     "name": "stdout",
     "output_type": "stream",
     "text": [
      "[[[ 1  2  3]\n",
      "  [ 4  5  6]]\n",
      "\n",
      " [[ 7  8  9]\n",
      "  [10 11 12]]]\n",
      "3\n"
     ]
    }
   ],
   "source": [
    "#3D array\n",
    "arr=np.array([[[1,2,3],[4,5,6]],[[7,8,9],[10,11,12]]])\n",
    "print(arr)\n",
    "print(arr.ndim)"
   ]
  },
  {
   "cell_type": "code",
   "execution_count": 30,
   "id": "766ea59f-5575-41bc-b4e9-9faf90dc96f3",
   "metadata": {},
   "outputs": [
    {
     "name": "stdout",
     "output_type": "stream",
     "text": [
      "50\n"
     ]
    }
   ],
   "source": [
    "#accessing element from array\n",
    "arr=np.array([10,20,30,40,50])\n",
    "print(arr[4])"
   ]
  },
  {
   "cell_type": "code",
   "execution_count": 31,
   "id": "dc2f7edb-55bb-4c3f-b5ad-bab3e2eb2efc",
   "metadata": {},
   "outputs": [
    {
     "name": "stdout",
     "output_type": "stream",
     "text": [
      "40\n",
      "50\n"
     ]
    }
   ],
   "source": [
    "#accessing 2D array\n",
    "arr=np.array([[10,20,30,40,50],[60,70,80,90,100]])\n",
    "print(arr[0,3])\n",
    "print(arr[0,-1])"
   ]
  },
  {
   "cell_type": "code",
   "execution_count": 35,
   "id": "3bdb7f23-7526-4fe5-91b5-8e5073f40d39",
   "metadata": {},
   "outputs": [
    {
     "name": "stdout",
     "output_type": "stream",
     "text": [
      "[20 30 40 50]\n",
      "[]\n"
     ]
    }
   ],
   "source": [
    "#slicing\n",
    "arr=np.array([10,20,30,40,50])\n",
    "print(arr[1:5])\n",
    "print(arr[-1:-4])"
   ]
  },
  {
   "cell_type": "code",
   "execution_count": 36,
   "id": "8a68ae4d-286b-4ceb-bba0-f8d2da079139",
   "metadata": {},
   "outputs": [
    {
     "name": "stdout",
     "output_type": "stream",
     "text": [
      "(2, 5)\n"
     ]
    }
   ],
   "source": [
    "#checking shape of an array\n",
    "arr=np.array([[10,20,30,40,50],[60,70,80,90,100]])\n",
    "print(arr.shape)"
   ]
  },
  {
   "cell_type": "code",
   "execution_count": 37,
   "id": "5dc26117-1103-4c3c-a2dd-ae3befe6078f",
   "metadata": {},
   "outputs": [
    {
     "name": "stdout",
     "output_type": "stream",
     "text": [
      "10\n"
     ]
    }
   ],
   "source": [
    "#size of an array\n",
    "arr=np.array([[1,2,3,4,5],[6,7,8,9,10]])\n",
    "print(arr.size)"
   ]
  },
  {
   "cell_type": "code",
   "execution_count": 46,
   "id": "da5c43cb-5c18-44df-9b5d-449ccca86e84",
   "metadata": {},
   "outputs": [
    {
     "name": "stdout",
     "output_type": "stream",
     "text": [
      "[[ 1  2]\n",
      " [ 3  4]\n",
      " [ 5  6]\n",
      " [ 7  8]\n",
      " [ 9 10]]\n"
     ]
    }
   ],
   "source": [
    "#reshaping of an array\n",
    "arr=np.array([1,2,3,4,5,6,7,8,9,10])\n",
    "newarr=arr.reshape(5,2)\n",
    "print(newarr)"
   ]
  },
  {
   "cell_type": "code",
   "execution_count": 47,
   "id": "ea3ca480-a995-4d82-94bd-2e99fb3ea06f",
   "metadata": {},
   "outputs": [
    {
     "name": "stdout",
     "output_type": "stream",
     "text": [
      "1 2\n",
      "2 2\n",
      "3 2\n",
      "4 2\n",
      "5 2\n"
     ]
    }
   ],
   "source": [
    "#iterating array element\n",
    "arr=np.array([1,2,3,4,5])\n",
    "for x in arr:\n",
    "    print(x,2)"
   ]
  },
  {
   "cell_type": "code",
   "execution_count": 48,
   "id": "f84e832f-3b6e-4542-9bd7-5507d43360da",
   "metadata": {},
   "outputs": [
    {
     "name": "stdout",
     "output_type": "stream",
     "text": [
      "[ 1  2  3  4  5  6  7  8  9 10]\n"
     ]
    }
   ],
   "source": [
    "#concatenate / joining array\n",
    "arr1=np.array([1,2,3,4,5])\n",
    "arr2=np.array([6,7,8,9,10])\n",
    "arr=np.concatenate((arr1,arr2))\n",
    "print(arr)"
   ]
  },
  {
   "cell_type": "code",
   "execution_count": 52,
   "id": "ac18f85a-8b46-4ecb-bf6a-8f3e6f3d2f9e",
   "metadata": {},
   "outputs": [
    {
     "name": "stdout",
     "output_type": "stream",
     "text": [
      "[array([1, 2, 3]), array([4, 5, 6]), array([7, 8, 9])]\n"
     ]
    }
   ],
   "source": [
    "#splitting array\n",
    "arr=np.array([1,2,3,4,5,6,7,8,9])\n",
    "newarr=np.array_split(arr,3)\n",
    "print(newarr)"
   ]
  },
  {
   "cell_type": "code",
   "execution_count": 55,
   "id": "67b579ea-8e07-47a9-9d35-d3ed443ee720",
   "metadata": {},
   "outputs": [
    {
     "name": "stdout",
     "output_type": "stream",
     "text": [
      "(array([3, 5], dtype=int64),)\n"
     ]
    }
   ],
   "source": [
    "#searching an array\n",
    "arr=np.array([1,2,3,5,4,5])\n",
    "x=np.where(arr==5)\n",
    "print(x)"
   ]
  },
  {
   "cell_type": "code",
   "execution_count": 56,
   "id": "51711425-a805-4cf7-8433-43eaf94a2813",
   "metadata": {},
   "outputs": [
    {
     "name": "stdout",
     "output_type": "stream",
     "text": [
      "[0 1 2 3]\n",
      "[3 2 1 0]\n"
     ]
    }
   ],
   "source": [
    "#sorting an array\n",
    "arr=np.array([3,2,0,1])\n",
    "print(np.sort(arr))\n",
    "print(np.sort(arr)[::-1])"
   ]
  },
  {
   "cell_type": "code",
   "execution_count": 61,
   "id": "34391dec-f481-4867-84c4-1c147808a82f",
   "metadata": {},
   "outputs": [
    {
     "name": "stdout",
     "output_type": "stream",
     "text": [
      "[41 43]\n"
     ]
    }
   ],
   "source": [
    "#filtring array\n",
    "arr=np.array([41,42,43,44])\n",
    "x=[True,False,True,False]\n",
    "newarr=arr[x]\n",
    "print(newarr)"
   ]
  },
  {
   "cell_type": "code",
   "execution_count": 65,
   "id": "7deeec1d-d8f2-483a-ad60-819c3ab24724",
   "metadata": {},
   "outputs": [
    {
     "name": "stdout",
     "output_type": "stream",
     "text": [
      "[1. 2. 3. 4. 5.]\n"
     ]
    }
   ],
   "source": [
    "#conversion of datatype\n",
    "arr=np.array([1,2,3,4,5])\n",
    "print(arr.astype(float))"
   ]
  },
  {
   "cell_type": "code",
   "execution_count": 74,
   "id": "7953cba6-5ab5-4624-a044-73d74f945d5a",
   "metadata": {},
   "outputs": [
    {
     "name": "stdout",
     "output_type": "stream",
     "text": [
      "[False, False, True, True]\n",
      "[43 44]\n"
     ]
    }
   ],
   "source": [
    "arr=np.array([41,42,43,44])\n",
    "\n",
    "#create an empty list\n",
    "filter_arr=[]\n",
    "\n",
    "#go through each element in arr\n",
    "for element in arr:\n",
    "    if element>42:\n",
    "        filter_arr.append(True)\n",
    "    else:\n",
    "        filter_arr.append(False)\n",
    "newarr=arr[filter_arr]\n",
    "print(filter_arr)\n",
    "print(newarr)"
   ]
  },
  {
   "cell_type": "code",
   "execution_count": 76,
   "id": "8d9eeef5-58cf-478e-85c3-edbb9d09080a",
   "metadata": {},
   "outputs": [
    {
     "name": "stdout",
     "output_type": "stream",
     "text": [
      "[1 2 3 4 5 6 7]\n",
      "[1 2 3 6 7 4 5]\n",
      "[1 3 4 5]\n",
      "150\n",
      "10\n",
      "50\n",
      "[ 10  30  60 100 150]\n",
      "40.0\n",
      "40.0\n",
      "10\n"
     ]
    }
   ],
   "source": [
    "#adding and removing elements\n",
    "arr=np.array([1,2,3,4,5])\n",
    "\n",
    "#append adding only ending of an array\n",
    "print(np.append(arr,[6,7]))\n",
    "\n",
    "#insert adding element into specific index\n",
    "print(np.insert(arr,3,[6,7]))\n",
    "\n",
    "#delete remove element\n",
    "print(np.delete(arr,[1]))\n",
    "\n",
    "#aggregate function\n",
    "arr=np.array([10,20,30,40,50])\n",
    "\n",
    "#sum\n",
    "print(np.sum(arr))\n",
    "\n",
    "#minimum\n",
    "print(np.min(arr))\n",
    "\n",
    "#maximum\n",
    "print(np.max(arr))\n",
    "\n",
    "#cumsum\n",
    "print(np.cumsum(arr))\n",
    "\n",
    "#statistical function\n",
    "import statistics as stats\n",
    "food_prices=[10,20,30,40,50,60,70]\n",
    "a=np.array(food_prices)\n",
    "\n",
    "#mean \n",
    "print(np.mean(a))\n",
    "\n",
    "#median\n",
    "print(np.median(a))\n",
    "\n",
    "#mode\n",
    "print(stats.mode(a))"
   ]
  },
  {
   "cell_type": "code",
   "execution_count": null,
   "id": "0ac13fa5-2618-4eba-bdf8-6fb0e495629d",
   "metadata": {},
   "outputs": [],
   "source": []
  }
 ],
 "metadata": {
  "kernelspec": {
   "display_name": "Python [conda env:base] *",
   "language": "python",
   "name": "conda-base-py"
  },
  "language_info": {
   "codemirror_mode": {
    "name": "ipython",
    "version": 3
   },
   "file_extension": ".py",
   "mimetype": "text/x-python",
   "name": "python",
   "nbconvert_exporter": "python",
   "pygments_lexer": "ipython3",
   "version": "3.12.7"
  }
 },
 "nbformat": 4,
 "nbformat_minor": 5
}
