{
 "cells": [
  {
   "cell_type": "code",
   "execution_count": 1,
   "id": "de910d61-82d2-4d7e-87bc-a5cc030b1133",
   "metadata": {},
   "outputs": [],
   "source": [
    "#import liabraries\n",
    "import numpy as np\n",
    "import pandas as pd\n",
    "import matplotlib.pyplot as plt\n",
    "import seaborn as sns"
   ]
  },
  {
   "cell_type": "code",
   "execution_count": 2,
   "id": "d5d74b39-aa04-4ebb-a7eb-e836442e3b55",
   "metadata": {},
   "outputs": [
    {
     "data": {
      "text/html": [
       "<div>\n",
       "<style scoped>\n",
       "    .dataframe tbody tr th:only-of-type {\n",
       "        vertical-align: middle;\n",
       "    }\n",
       "\n",
       "    .dataframe tbody tr th {\n",
       "        vertical-align: top;\n",
       "    }\n",
       "\n",
       "    .dataframe thead th {\n",
       "        text-align: right;\n",
       "    }\n",
       "</style>\n",
       "<table border=\"1\" class=\"dataframe\">\n",
       "  <thead>\n",
       "    <tr style=\"text-align: right;\">\n",
       "      <th></th>\n",
       "      <th>Name</th>\n",
       "      <th>Age</th>\n",
       "      <th>Gender</th>\n",
       "      <th>Email</th>\n",
       "      <th>Join_Date</th>\n",
       "      <th>Salary</th>\n",
       "      <th>Department</th>\n",
       "    </tr>\n",
       "  </thead>\n",
       "  <tbody>\n",
       "    <tr>\n",
       "      <th>0</th>\n",
       "      <td>Alice</td>\n",
       "      <td>NaN</td>\n",
       "      <td>NaN</td>\n",
       "      <td>user0@example.com</td>\n",
       "      <td>2021-05-21</td>\n",
       "      <td>NaN</td>\n",
       "      <td>Admin</td>\n",
       "    </tr>\n",
       "    <tr>\n",
       "      <th>1</th>\n",
       "      <td>Bob</td>\n",
       "      <td>40</td>\n",
       "      <td>M</td>\n",
       "      <td>user1@example.com</td>\n",
       "      <td>NaN</td>\n",
       "      <td>50000</td>\n",
       "      <td>Engineering</td>\n",
       "    </tr>\n",
       "    <tr>\n",
       "      <th>2</th>\n",
       "      <td>Charlie</td>\n",
       "      <td>unknown</td>\n",
       "      <td>Male</td>\n",
       "      <td>user2@example.com</td>\n",
       "      <td>2020/01/01</td>\n",
       "      <td>50000</td>\n",
       "      <td>HR</td>\n",
       "    </tr>\n",
       "    <tr>\n",
       "      <th>3</th>\n",
       "      <td>David</td>\n",
       "      <td>NaN</td>\n",
       "      <td>NaN</td>\n",
       "      <td>user3@example.com</td>\n",
       "      <td>2021-05-21</td>\n",
       "      <td>70000</td>\n",
       "      <td>Admin</td>\n",
       "    </tr>\n",
       "    <tr>\n",
       "      <th>4</th>\n",
       "      <td>Eva</td>\n",
       "      <td>35</td>\n",
       "      <td>Other</td>\n",
       "      <td>user4@example.com</td>\n",
       "      <td>July 4, 2020</td>\n",
       "      <td>70000</td>\n",
       "      <td>Engineering</td>\n",
       "    </tr>\n",
       "    <tr>\n",
       "      <th>5</th>\n",
       "      <td>Frank</td>\n",
       "      <td>unknown</td>\n",
       "      <td>Other</td>\n",
       "      <td>user5@example.com</td>\n",
       "      <td>NaN</td>\n",
       "      <td>70000</td>\n",
       "      <td>Admin</td>\n",
       "    </tr>\n",
       "    <tr>\n",
       "      <th>6</th>\n",
       "      <td>Grace</td>\n",
       "      <td>unknown</td>\n",
       "      <td>Female</td>\n",
       "      <td>user6@example.com</td>\n",
       "      <td>July 4, 2020</td>\n",
       "      <td>80000</td>\n",
       "      <td>Engineering</td>\n",
       "    </tr>\n",
       "    <tr>\n",
       "      <th>7</th>\n",
       "      <td>Hannah</td>\n",
       "      <td>NaN</td>\n",
       "      <td>Other</td>\n",
       "      <td>user7@example.com</td>\n",
       "      <td>2021-05-21</td>\n",
       "      <td>NaN</td>\n",
       "      <td>HR</td>\n",
       "    </tr>\n",
       "    <tr>\n",
       "      <th>8</th>\n",
       "      <td>Ivy</td>\n",
       "      <td>30</td>\n",
       "      <td>Female</td>\n",
       "      <td>user8@example.com</td>\n",
       "      <td>NaN</td>\n",
       "      <td>50000</td>\n",
       "      <td>Engineering</td>\n",
       "    </tr>\n",
       "    <tr>\n",
       "      <th>9</th>\n",
       "      <td>Jack</td>\n",
       "      <td>35</td>\n",
       "      <td>Male</td>\n",
       "      <td>user9@example.com</td>\n",
       "      <td>2020/01/01</td>\n",
       "      <td>80000</td>\n",
       "      <td>Engineering</td>\n",
       "    </tr>\n",
       "  </tbody>\n",
       "</table>\n",
       "</div>"
      ],
      "text/plain": [
       "      Name      Age  Gender              Email     Join_Date Salary  \\\n",
       "0    Alice      NaN     NaN  user0@example.com    2021-05-21    NaN   \n",
       "1      Bob       40       M  user1@example.com           NaN  50000   \n",
       "2  Charlie  unknown    Male  user2@example.com    2020/01/01  50000   \n",
       "3    David      NaN     NaN  user3@example.com    2021-05-21  70000   \n",
       "4      Eva       35   Other  user4@example.com  July 4, 2020  70000   \n",
       "5    Frank  unknown   Other  user5@example.com           NaN  70000   \n",
       "6    Grace  unknown  Female  user6@example.com  July 4, 2020  80000   \n",
       "7   Hannah      NaN   Other  user7@example.com    2021-05-21    NaN   \n",
       "8      Ivy       30  Female  user8@example.com           NaN  50000   \n",
       "9     Jack       35    Male  user9@example.com    2020/01/01  80000   \n",
       "\n",
       "    Department  \n",
       "0        Admin  \n",
       "1  Engineering  \n",
       "2           HR  \n",
       "3        Admin  \n",
       "4  Engineering  \n",
       "5        Admin  \n",
       "6  Engineering  \n",
       "7           HR  \n",
       "8  Engineering  \n",
       "9  Engineering  "
      ]
     },
     "execution_count": 2,
     "metadata": {},
     "output_type": "execute_result"
    }
   ],
   "source": [
    "#import dataset\n",
    "ds=pd.read_csv(\"raw_messy_dataset.csv\")\n",
    "ds.head(10)"
   ]
  },
  {
   "cell_type": "code",
   "execution_count": 3,
   "id": "329ad533-cc99-464e-8689-b476521927d6",
   "metadata": {},
   "outputs": [
    {
     "name": "stdout",
     "output_type": "stream",
     "text": [
      "<class 'pandas.core.frame.DataFrame'>\n",
      "RangeIndex: 105 entries, 0 to 104\n",
      "Data columns (total 7 columns):\n",
      " #   Column      Non-Null Count  Dtype \n",
      "---  ------      --------------  ----- \n",
      " 0   Name        105 non-null    object\n",
      " 1   Age         72 non-null     object\n",
      " 2   Gender      89 non-null     object\n",
      " 3   Email       95 non-null     object\n",
      " 4   Join_Date   70 non-null     object\n",
      " 5   Salary      78 non-null     object\n",
      " 6   Department  89 non-null     object\n",
      "dtypes: object(7)\n",
      "memory usage: 5.9+ KB\n"
     ]
    }
   ],
   "source": [
    "ds.info()"
   ]
  },
  {
   "cell_type": "code",
   "execution_count": 4,
   "id": "e4fb1c2e-7778-4829-9c63-7b22fbe4bc53",
   "metadata": {},
   "outputs": [
    {
     "data": {
      "text/html": [
       "<div>\n",
       "<style scoped>\n",
       "    .dataframe tbody tr th:only-of-type {\n",
       "        vertical-align: middle;\n",
       "    }\n",
       "\n",
       "    .dataframe tbody tr th {\n",
       "        vertical-align: top;\n",
       "    }\n",
       "\n",
       "    .dataframe thead th {\n",
       "        text-align: right;\n",
       "    }\n",
       "</style>\n",
       "<table border=\"1\" class=\"dataframe\">\n",
       "  <thead>\n",
       "    <tr style=\"text-align: right;\">\n",
       "      <th></th>\n",
       "      <th>Name</th>\n",
       "      <th>Age</th>\n",
       "      <th>Gender</th>\n",
       "      <th>Email</th>\n",
       "      <th>Join_Date</th>\n",
       "      <th>Salary</th>\n",
       "      <th>Department</th>\n",
       "    </tr>\n",
       "  </thead>\n",
       "  <tbody>\n",
       "    <tr>\n",
       "      <th>count</th>\n",
       "      <td>105</td>\n",
       "      <td>72</td>\n",
       "      <td>89</td>\n",
       "      <td>95</td>\n",
       "      <td>70</td>\n",
       "      <td>78</td>\n",
       "      <td>89</td>\n",
       "    </tr>\n",
       "    <tr>\n",
       "      <th>unique</th>\n",
       "      <td>10</td>\n",
       "      <td>5</td>\n",
       "      <td>5</td>\n",
       "      <td>90</td>\n",
       "      <td>4</td>\n",
       "      <td>5</td>\n",
       "      <td>5</td>\n",
       "    </tr>\n",
       "    <tr>\n",
       "      <th>top</th>\n",
       "      <td>Alice</td>\n",
       "      <td>40</td>\n",
       "      <td>Male</td>\n",
       "      <td>user0@example.com</td>\n",
       "      <td>2021-05-21</td>\n",
       "      <td>50000</td>\n",
       "      <td>Engineering</td>\n",
       "    </tr>\n",
       "    <tr>\n",
       "      <th>freq</th>\n",
       "      <td>11</td>\n",
       "      <td>22</td>\n",
       "      <td>22</td>\n",
       "      <td>2</td>\n",
       "      <td>26</td>\n",
       "      <td>22</td>\n",
       "      <td>26</td>\n",
       "    </tr>\n",
       "  </tbody>\n",
       "</table>\n",
       "</div>"
      ],
      "text/plain": [
       "         Name Age Gender              Email   Join_Date Salary   Department\n",
       "count     105  72     89                 95          70     78           89\n",
       "unique     10   5      5                 90           4      5            5\n",
       "top     Alice  40   Male  user0@example.com  2021-05-21  50000  Engineering\n",
       "freq       11  22     22                  2          26     22           26"
      ]
     },
     "execution_count": 4,
     "metadata": {},
     "output_type": "execute_result"
    }
   ],
   "source": [
    "ds.describe()"
   ]
  },
  {
   "cell_type": "code",
   "execution_count": 8,
   "id": "6719bdad-d886-417c-bbbf-6ab608160f4e",
   "metadata": {},
   "outputs": [],
   "source": [
    "#remove duplicates\n",
    "ds.drop_duplicates(inplace=True)"
   ]
  },
  {
   "cell_type": "code",
   "execution_count": 10,
   "id": "0061cbec-a17d-481b-bf04-1672fa6178dd",
   "metadata": {},
   "outputs": [
    {
     "data": {
      "text/plain": [
       "Index(['Name', 'Age', 'Gender', 'Email', 'Join_Date', 'Salary', 'Department'], dtype='object')"
      ]
     },
     "execution_count": 10,
     "metadata": {},
     "output_type": "execute_result"
    }
   ],
   "source": [
    "#to get headers of column\n",
    "ds.columns"
   ]
  },
  {
   "cell_type": "code",
   "execution_count": 12,
   "id": "f6acde8b-7008-457f-8c0a-64d94b1f0969",
   "metadata": {},
   "outputs": [],
   "source": [
    "#handling age\n",
    "ds[\"Age\"]=pd.to_numeric(ds[\"Age\"], errors='coerce')"
   ]
  },
  {
   "cell_type": "code",
   "execution_count": 17,
   "id": "8c8ae1d2-3fe2-4b60-aec7-73e747829d61",
   "metadata": {},
   "outputs": [
    {
     "data": {
      "text/plain": [
       "array([35., 40., 30., 25.])"
      ]
     },
     "execution_count": 17,
     "metadata": {},
     "output_type": "execute_result"
    }
   ],
   "source": [
    "ds[\"Age\"].unique()"
   ]
  },
  {
   "cell_type": "code",
   "execution_count": 21,
   "id": "5dd40ecf-671f-4351-858b-79b12512b270",
   "metadata": {},
   "outputs": [
    {
     "name": "stderr",
     "output_type": "stream",
     "text": [
      "C:\\Users\\Admin\\AppData\\Local\\Temp\\ipykernel_4352\\1241676936.py:2: FutureWarning: A value is trying to be set on a copy of a DataFrame or Series through chained assignment using an inplace method.\n",
      "The behavior will change in pandas 3.0. This inplace method will never work because the intermediate object on which we are setting values always behaves as a copy.\n",
      "\n",
      "For example, when doing 'df[col].method(value, inplace=True)', try using 'df.method({col: value}, inplace=True)' or df[col] = df[col].method(value) instead, to perform the operation inplace on the original object.\n",
      "\n",
      "\n",
      "  ds[\"Age\"].fillna(x, inplace=True)\n"
     ]
    },
    {
     "data": {
      "text/plain": [
       "array([nan, 'M', 'Male', 'Other', 'Female', 'F'], dtype=object)"
      ]
     },
     "execution_count": 21,
     "metadata": {},
     "output_type": "execute_result"
    }
   ],
   "source": [
    "x=ds[\"Age\"].median()\n",
    "ds[\"Age\"].fillna(x, inplace=True)\n",
    "ds[\"Gender\"].unique()"
   ]
  },
  {
   "cell_type": "code",
   "execution_count": 27,
   "id": "f42ae22b-4eae-4717-b3f6-874e194cdc37",
   "metadata": {},
   "outputs": [
    {
     "data": {
      "text/plain": [
       "Index(['Name', 'Age', 'Gender', 'Email', 'Join_Date', 'Salary', 'Department'], dtype='object')"
      ]
     },
     "execution_count": 27,
     "metadata": {},
     "output_type": "execute_result"
    }
   ],
   "source": [
    "#staderdized gender\n",
    "ds[\"Gender\"]=ds[\"Gender\"].replace({\n",
    "    \"M\":\"Male\", \"F\":\"Female\", \"\":\"None\"\n",
    "})\n",
    "ds.columns"
   ]
  },
  {
   "cell_type": "code",
   "execution_count": 28,
   "id": "4aaaa483-ae29-4c61-8aa1-0dc4123719a3",
   "metadata": {},
   "outputs": [
    {
     "name": "stdout",
     "output_type": "stream",
     "text": [
      "       Name   Age                                                                                                                                                                                                                     Gender               Email     Join_Date   Salary   Department\n",
      "0     Alice  35.0  <bound method NDFrame.replace of 0       NaN\\n1         M\\n2      Male\\n3       NaN\\n4     Other\\n      ...  \\n95     Male\\n96     Male\\n97     Male\\n98        F\\n99      NaN\\nName: Gender, Length: 100, dtype: object>   user0@example.com    2021-05-21      NaN        Admin\n",
      "1       Bob  40.0  <bound method NDFrame.replace of 0       NaN\\n1         M\\n2      Male\\n3       NaN\\n4     Other\\n      ...  \\n95     Male\\n96     Male\\n97     Male\\n98        F\\n99      NaN\\nName: Gender, Length: 100, dtype: object>   user1@example.com           NaN    50000  Engineering\n",
      "2   Charlie  35.0  <bound method NDFrame.replace of 0       NaN\\n1         M\\n2      Male\\n3       NaN\\n4     Other\\n      ...  \\n95     Male\\n96     Male\\n97     Male\\n98        F\\n99      NaN\\nName: Gender, Length: 100, dtype: object>   user2@example.com    2020/01/01    50000           HR\n",
      "3     David  35.0  <bound method NDFrame.replace of 0       NaN\\n1         M\\n2      Male\\n3       NaN\\n4     Other\\n      ...  \\n95     Male\\n96     Male\\n97     Male\\n98        F\\n99      NaN\\nName: Gender, Length: 100, dtype: object>   user3@example.com    2021-05-21    70000        Admin\n",
      "4       Eva  35.0  <bound method NDFrame.replace of 0       NaN\\n1         M\\n2      Male\\n3       NaN\\n4     Other\\n      ...  \\n95     Male\\n96     Male\\n97     Male\\n98        F\\n99      NaN\\nName: Gender, Length: 100, dtype: object>   user4@example.com  July 4, 2020    70000  Engineering\n",
      "5     Frank  35.0  <bound method NDFrame.replace of 0       NaN\\n1         M\\n2      Male\\n3       NaN\\n4     Other\\n      ...  \\n95     Male\\n96     Male\\n97     Male\\n98        F\\n99      NaN\\nName: Gender, Length: 100, dtype: object>   user5@example.com           NaN    70000        Admin\n",
      "6     Grace  35.0  <bound method NDFrame.replace of 0       NaN\\n1         M\\n2      Male\\n3       NaN\\n4     Other\\n      ...  \\n95     Male\\n96     Male\\n97     Male\\n98        F\\n99      NaN\\nName: Gender, Length: 100, dtype: object>   user6@example.com  July 4, 2020    80000  Engineering\n",
      "7    Hannah  35.0  <bound method NDFrame.replace of 0       NaN\\n1         M\\n2      Male\\n3       NaN\\n4     Other\\n      ...  \\n95     Male\\n96     Male\\n97     Male\\n98        F\\n99      NaN\\nName: Gender, Length: 100, dtype: object>   user7@example.com    2021-05-21      NaN           HR\n",
      "8       Ivy  30.0  <bound method NDFrame.replace of 0       NaN\\n1         M\\n2      Male\\n3       NaN\\n4     Other\\n      ...  \\n95     Male\\n96     Male\\n97     Male\\n98        F\\n99      NaN\\nName: Gender, Length: 100, dtype: object>   user8@example.com           NaN    50000  Engineering\n",
      "9      Jack  35.0  <bound method NDFrame.replace of 0       NaN\\n1         M\\n2      Male\\n3       NaN\\n4     Other\\n      ...  \\n95     Male\\n96     Male\\n97     Male\\n98        F\\n99      NaN\\nName: Gender, Length: 100, dtype: object>   user9@example.com    2020/01/01    80000  Engineering\n",
      "10    Alice  35.0  <bound method NDFrame.replace of 0       NaN\\n1         M\\n2      Male\\n3       NaN\\n4     Other\\n      ...  \\n95     Male\\n96     Male\\n97     Male\\n98        F\\n99      NaN\\nName: Gender, Length: 100, dtype: object>  user10@example.com    2021-05-21    70000  Engineering\n",
      "11      Bob  35.0  <bound method NDFrame.replace of 0       NaN\\n1         M\\n2      Male\\n3       NaN\\n4     Other\\n      ...  \\n95     Male\\n96     Male\\n97     Male\\n98        F\\n99      NaN\\nName: Gender, Length: 100, dtype: object>  user11@example.com  July 4, 2020    50000        Sales\n",
      "12  Charlie  35.0  <bound method NDFrame.replace of 0       NaN\\n1         M\\n2      Male\\n3       NaN\\n4     Other\\n      ...  \\n95     Male\\n96     Male\\n97     Male\\n98        F\\n99      NaN\\nName: Gender, Length: 100, dtype: object>  user12@example.com    22-06-2022    80000        Sales\n",
      "13    David  35.0  <bound method NDFrame.replace of 0       NaN\\n1         M\\n2      Male\\n3       NaN\\n4     Other\\n      ...  \\n95     Male\\n96     Male\\n97     Male\\n98        F\\n99      NaN\\nName: Gender, Length: 100, dtype: object>  user13@example.com           NaN      NaN        Sales\n",
      "14      Eva  40.0  <bound method NDFrame.replace of 0       NaN\\n1         M\\n2      Male\\n3       NaN\\n4     Other\\n      ...  \\n95     Male\\n96     Male\\n97     Male\\n98        F\\n99      NaN\\nName: Gender, Length: 100, dtype: object>  user14@example.com  July 4, 2020    80000           HR\n",
      "15    Frank  35.0  <bound method NDFrame.replace of 0       NaN\\n1         M\\n2      Male\\n3       NaN\\n4     Other\\n      ...  \\n95     Male\\n96     Male\\n97     Male\\n98        F\\n99      NaN\\nName: Gender, Length: 100, dtype: object>  user15@example.com           NaN      NaN        Admin\n",
      "16    Grace  35.0  <bound method NDFrame.replace of 0       NaN\\n1         M\\n2      Male\\n3       NaN\\n4     Other\\n      ...  \\n95     Male\\n96     Male\\n97     Male\\n98        F\\n99      NaN\\nName: Gender, Length: 100, dtype: object>  user16@example.com    2021-05-21    70000          NaN\n",
      "17   Hannah  35.0  <bound method NDFrame.replace of 0       NaN\\n1         M\\n2      Male\\n3       NaN\\n4     Other\\n      ...  \\n95     Male\\n96     Male\\n97     Male\\n98        F\\n99      NaN\\nName: Gender, Length: 100, dtype: object>  user17@example.com           NaN      NaN  Engineering\n",
      "18      Ivy  30.0  <bound method NDFrame.replace of 0       NaN\\n1         M\\n2      Male\\n3       NaN\\n4     Other\\n      ...  \\n95     Male\\n96     Male\\n97     Male\\n98        F\\n99      NaN\\nName: Gender, Length: 100, dtype: object>  user18@example.com    2021-05-21    50000  Engineering\n",
      "19     Jack  40.0  <bound method NDFrame.replace of 0       NaN\\n1         M\\n2      Male\\n3       NaN\\n4     Other\\n      ...  \\n95     Male\\n96     Male\\n97     Male\\n98        F\\n99      NaN\\nName: Gender, Length: 100, dtype: object>  user19@example.com           NaN    70000           HR\n",
      "20    Alice  35.0  <bound method NDFrame.replace of 0       NaN\\n1         M\\n2      Male\\n3       NaN\\n4     Other\\n      ...  \\n95     Male\\n96     Male\\n97     Male\\n98        F\\n99      NaN\\nName: Gender, Length: 100, dtype: object>  user20@example.com    2021-05-21    50000  Engineering\n",
      "21      Bob  35.0  <bound method NDFrame.replace of 0       NaN\\n1         M\\n2      Male\\n3       NaN\\n4     Other\\n      ...  \\n95     Male\\n96     Male\\n97     Male\\n98        F\\n99      NaN\\nName: Gender, Length: 100, dtype: object>  user21@example.com    22-06-2022  unknown        Sales\n",
      "22  Charlie  30.0  <bound method NDFrame.replace of 0       NaN\\n1         M\\n2      Male\\n3       NaN\\n4     Other\\n      ...  \\n95     Male\\n96     Male\\n97     Male\\n98        F\\n99      NaN\\nName: Gender, Length: 100, dtype: object>  user22@example.com           NaN    60000          NaN\n",
      "23    David  40.0  <bound method NDFrame.replace of 0       NaN\\n1         M\\n2      Male\\n3       NaN\\n4     Other\\n      ...  \\n95     Male\\n96     Male\\n97     Male\\n98        F\\n99      NaN\\nName: Gender, Length: 100, dtype: object>  user23@example.com           NaN      NaN    Marketing\n",
      "24      Eva  35.0  <bound method NDFrame.replace of 0       NaN\\n1         M\\n2      Male\\n3       NaN\\n4     Other\\n      ...  \\n95     Male\\n96     Male\\n97     Male\\n98        F\\n99      NaN\\nName: Gender, Length: 100, dtype: object>  user24@example.com           NaN    60000  Engineering\n",
      "25    Frank  25.0  <bound method NDFrame.replace of 0       NaN\\n1         M\\n2      Male\\n3       NaN\\n4     Other\\n      ...  \\n95     Male\\n96     Male\\n97     Male\\n98        F\\n99      NaN\\nName: Gender, Length: 100, dtype: object>  user25@example.com    22-06-2022    60000        Sales\n",
      "26    Grace  40.0  <bound method NDFrame.replace of 0       NaN\\n1         M\\n2      Male\\n3       NaN\\n4     Other\\n      ...  \\n95     Male\\n96     Male\\n97     Male\\n98        F\\n99      NaN\\nName: Gender, Length: 100, dtype: object>  user26@example.com  July 4, 2020      NaN    Marketing\n",
      "27   Hannah  30.0  <bound method NDFrame.replace of 0       NaN\\n1         M\\n2      Male\\n3       NaN\\n4     Other\\n      ...  \\n95     Male\\n96     Male\\n97     Male\\n98        F\\n99      NaN\\nName: Gender, Length: 100, dtype: object>  user27@example.com    2021-05-21    70000          NaN\n",
      "28      Ivy  35.0  <bound method NDFrame.replace of 0       NaN\\n1         M\\n2      Male\\n3       NaN\\n4     Other\\n      ...  \\n95     Male\\n96     Male\\n97     Male\\n98        F\\n99      NaN\\nName: Gender, Length: 100, dtype: object>  user28@example.com    2020/01/01  unknown    Marketing\n",
      "29     Jack  35.0  <bound method NDFrame.replace of 0       NaN\\n1         M\\n2      Male\\n3       NaN\\n4     Other\\n      ...  \\n95     Male\\n96     Male\\n97     Male\\n98        F\\n99      NaN\\nName: Gender, Length: 100, dtype: object>  user29@example.com    2021-05-21    50000        Sales\n",
      "30    Alice  40.0  <bound method NDFrame.replace of 0       NaN\\n1         M\\n2      Male\\n3       NaN\\n4     Other\\n      ...  \\n95     Male\\n96     Male\\n97     Male\\n98        F\\n99      NaN\\nName: Gender, Length: 100, dtype: object>  user30@example.com    2021-05-21    80000        Admin\n",
      "31      Bob  25.0  <bound method NDFrame.replace of 0       NaN\\n1         M\\n2      Male\\n3       NaN\\n4     Other\\n      ...  \\n95     Male\\n96     Male\\n97     Male\\n98        F\\n99      NaN\\nName: Gender, Length: 100, dtype: object>  user31@example.com  July 4, 2020    50000        Admin\n",
      "32  Charlie  25.0  <bound method NDFrame.replace of 0       NaN\\n1         M\\n2      Male\\n3       NaN\\n4     Other\\n      ...  \\n95     Male\\n96     Male\\n97     Male\\n98        F\\n99      NaN\\nName: Gender, Length: 100, dtype: object>  user32@example.com    2021-05-21    80000    Marketing\n",
      "33    David  35.0  <bound method NDFrame.replace of 0       NaN\\n1         M\\n2      Male\\n3       NaN\\n4     Other\\n      ...  \\n95     Male\\n96     Male\\n97     Male\\n98        F\\n99      NaN\\nName: Gender, Length: 100, dtype: object>  user33@example.com    22-06-2022    50000           HR\n",
      "34      Eva  35.0  <bound method NDFrame.replace of 0       NaN\\n1         M\\n2      Male\\n3       NaN\\n4     Other\\n      ...  \\n95     Male\\n96     Male\\n97     Male\\n98        F\\n99      NaN\\nName: Gender, Length: 100, dtype: object>  user34@example.com    22-06-2022      NaN    Marketing\n",
      "35    Frank  35.0  <bound method NDFrame.replace of 0       NaN\\n1         M\\n2      Male\\n3       NaN\\n4     Other\\n      ...  \\n95     Male\\n96     Male\\n97     Male\\n98        F\\n99      NaN\\nName: Gender, Length: 100, dtype: object>  user35@example.com           NaN  unknown  Engineering\n",
      "36    Grace  30.0  <bound method NDFrame.replace of 0       NaN\\n1         M\\n2      Male\\n3       NaN\\n4     Other\\n      ...  \\n95     Male\\n96     Male\\n97     Male\\n98        F\\n99      NaN\\nName: Gender, Length: 100, dtype: object>  user36@example.com           NaN    80000  Engineering\n",
      "37   Hannah  40.0  <bound method NDFrame.replace of 0       NaN\\n1         M\\n2      Male\\n3       NaN\\n4     Other\\n      ...  \\n95     Male\\n96     Male\\n97     Male\\n98        F\\n99      NaN\\nName: Gender, Length: 100, dtype: object>  user37@example.com    2020/01/01      NaN        Admin\n",
      "38      Ivy  40.0  <bound method NDFrame.replace of 0       NaN\\n1         M\\n2      Male\\n3       NaN\\n4     Other\\n      ...  \\n95     Male\\n96     Male\\n97     Male\\n98        F\\n99      NaN\\nName: Gender, Length: 100, dtype: object>  user38@example.com    2021-05-21    70000           HR\n",
      "39     Jack  35.0  <bound method NDFrame.replace of 0       NaN\\n1         M\\n2      Male\\n3       NaN\\n4     Other\\n      ...  \\n95     Male\\n96     Male\\n97     Male\\n98        F\\n99      NaN\\nName: Gender, Length: 100, dtype: object>  user39@example.com    2021-05-21    50000        Sales\n",
      "40    Alice  35.0  <bound method NDFrame.replace of 0       NaN\\n1         M\\n2      Male\\n3       NaN\\n4     Other\\n      ...  \\n95     Male\\n96     Male\\n97     Male\\n98        F\\n99      NaN\\nName: Gender, Length: 100, dtype: object>  user40@example.com  July 4, 2020    50000  Engineering\n",
      "41      Bob  35.0  <bound method NDFrame.replace of 0       NaN\\n1         M\\n2      Male\\n3       NaN\\n4     Other\\n      ...  \\n95     Male\\n96     Male\\n97     Male\\n98        F\\n99      NaN\\nName: Gender, Length: 100, dtype: object>  user41@example.com           NaN    80000        Admin\n",
      "42  Charlie  35.0  <bound method NDFrame.replace of 0       NaN\\n1         M\\n2      Male\\n3       NaN\\n4     Other\\n      ...  \\n95     Male\\n96     Male\\n97     Male\\n98        F\\n99      NaN\\nName: Gender, Length: 100, dtype: object>  user42@example.com    22-06-2022    70000          NaN\n",
      "43    David  35.0  <bound method NDFrame.replace of 0       NaN\\n1         M\\n2      Male\\n3       NaN\\n4     Other\\n      ...  \\n95     Male\\n96     Male\\n97     Male\\n98        F\\n99      NaN\\nName: Gender, Length: 100, dtype: object>  user43@example.com    2020/01/01    70000        Admin\n",
      "44      Eva  35.0  <bound method NDFrame.replace of 0       NaN\\n1         M\\n2      Male\\n3       NaN\\n4     Other\\n      ...  \\n95     Male\\n96     Male\\n97     Male\\n98        F\\n99      NaN\\nName: Gender, Length: 100, dtype: object>  user44@example.com           NaN      NaN  Engineering\n",
      "45    Frank  40.0  <bound method NDFrame.replace of 0       NaN\\n1         M\\n2      Male\\n3       NaN\\n4     Other\\n      ...  \\n95     Male\\n96     Male\\n97     Male\\n98        F\\n99      NaN\\nName: Gender, Length: 100, dtype: object>  user45@example.com    22-06-2022      NaN  Engineering\n",
      "46    Grace  35.0  <bound method NDFrame.replace of 0       NaN\\n1         M\\n2      Male\\n3       NaN\\n4     Other\\n      ...  \\n95     Male\\n96     Male\\n97     Male\\n98        F\\n99      NaN\\nName: Gender, Length: 100, dtype: object>  user46@example.com           NaN      NaN        Admin\n",
      "47   Hannah  40.0  <bound method NDFrame.replace of 0       NaN\\n1         M\\n2      Male\\n3       NaN\\n4     Other\\n      ...  \\n95     Male\\n96     Male\\n97     Male\\n98        F\\n99      NaN\\nName: Gender, Length: 100, dtype: object>  user47@example.com           NaN      NaN        Sales\n",
      "48      Ivy  25.0  <bound method NDFrame.replace of 0       NaN\\n1         M\\n2      Male\\n3       NaN\\n4     Other\\n      ...  \\n95     Male\\n96     Male\\n97     Male\\n98        F\\n99      NaN\\nName: Gender, Length: 100, dtype: object>  user48@example.com  July 4, 2020      NaN    Marketing\n",
      "49     Jack  35.0  <bound method NDFrame.replace of 0       NaN\\n1         M\\n2      Male\\n3       NaN\\n4     Other\\n      ...  \\n95     Male\\n96     Male\\n97     Male\\n98        F\\n99      NaN\\nName: Gender, Length: 100, dtype: object>  user49@example.com  July 4, 2020      NaN  Engineering\n",
      "50    Alice  35.0  <bound method NDFrame.replace of 0       NaN\\n1         M\\n2      Male\\n3       NaN\\n4     Other\\n      ...  \\n95     Male\\n96     Male\\n97     Male\\n98        F\\n99      NaN\\nName: Gender, Length: 100, dtype: object>  user50@example.com    2021-05-21      NaN        Admin\n",
      "51      Bob  35.0  <bound method NDFrame.replace of 0       NaN\\n1         M\\n2      Male\\n3       NaN\\n4     Other\\n      ...  \\n95     Male\\n96     Male\\n97     Male\\n98        F\\n99      NaN\\nName: Gender, Length: 100, dtype: object>  user51@example.com           NaN  unknown        Admin\n",
      "52  Charlie  35.0  <bound method NDFrame.replace of 0       NaN\\n1         M\\n2      Male\\n3       NaN\\n4     Other\\n      ...  \\n95     Male\\n96     Male\\n97     Male\\n98        F\\n99      NaN\\nName: Gender, Length: 100, dtype: object>  user52@example.com    2020/01/01    70000           HR\n",
      "53    David  35.0  <bound method NDFrame.replace of 0       NaN\\n1         M\\n2      Male\\n3       NaN\\n4     Other\\n      ...  \\n95     Male\\n96     Male\\n97     Male\\n98        F\\n99      NaN\\nName: Gender, Length: 100, dtype: object>  user53@example.com           NaN      NaN    Marketing\n",
      "54      Eva  25.0  <bound method NDFrame.replace of 0       NaN\\n1         M\\n2      Male\\n3       NaN\\n4     Other\\n      ...  \\n95     Male\\n96     Male\\n97     Male\\n98        F\\n99      NaN\\nName: Gender, Length: 100, dtype: object>  user54@example.com    22-06-2022    70000          NaN\n",
      "55    Frank  35.0  <bound method NDFrame.replace of 0       NaN\\n1         M\\n2      Male\\n3       NaN\\n4     Other\\n      ...  \\n95     Male\\n96     Male\\n97     Male\\n98        F\\n99      NaN\\nName: Gender, Length: 100, dtype: object>  user55@example.com           NaN    70000        Sales\n",
      "56    Grace  30.0  <bound method NDFrame.replace of 0       NaN\\n1         M\\n2      Male\\n3       NaN\\n4     Other\\n      ...  \\n95     Male\\n96     Male\\n97     Male\\n98        F\\n99      NaN\\nName: Gender, Length: 100, dtype: object>  user56@example.com           NaN    60000          NaN\n",
      "57   Hannah  40.0  <bound method NDFrame.replace of 0       NaN\\n1         M\\n2      Male\\n3       NaN\\n4     Other\\n      ...  \\n95     Male\\n96     Male\\n97     Male\\n98        F\\n99      NaN\\nName: Gender, Length: 100, dtype: object>  user57@example.com  July 4, 2020  unknown    Marketing\n",
      "58      Ivy  25.0  <bound method NDFrame.replace of 0       NaN\\n1         M\\n2      Male\\n3       NaN\\n4     Other\\n      ...  \\n95     Male\\n96     Male\\n97     Male\\n98        F\\n99      NaN\\nName: Gender, Length: 100, dtype: object>  user58@example.com    2021-05-21      NaN    Marketing\n",
      "59     Jack  40.0  <bound method NDFrame.replace of 0       NaN\\n1         M\\n2      Male\\n3       NaN\\n4     Other\\n      ...  \\n95     Male\\n96     Male\\n97     Male\\n98        F\\n99      NaN\\nName: Gender, Length: 100, dtype: object>  user59@example.com    2021-05-21    50000    Marketing\n",
      "60    Alice  35.0  <bound method NDFrame.replace of 0       NaN\\n1         M\\n2      Male\\n3       NaN\\n4     Other\\n      ...  \\n95     Male\\n96     Male\\n97     Male\\n98        F\\n99      NaN\\nName: Gender, Length: 100, dtype: object>  user60@example.com           NaN    80000          NaN\n",
      "61      Bob  30.0  <bound method NDFrame.replace of 0       NaN\\n1         M\\n2      Male\\n3       NaN\\n4     Other\\n      ...  \\n95     Male\\n96     Male\\n97     Male\\n98        F\\n99      NaN\\nName: Gender, Length: 100, dtype: object>  user61@example.com  July 4, 2020      NaN    Marketing\n",
      "62  Charlie  30.0  <bound method NDFrame.replace of 0       NaN\\n1         M\\n2      Male\\n3       NaN\\n4     Other\\n      ...  \\n95     Male\\n96     Male\\n97     Male\\n98        F\\n99      NaN\\nName: Gender, Length: 100, dtype: object>  user62@example.com           NaN    50000        Admin\n",
      "63    David  25.0  <bound method NDFrame.replace of 0       NaN\\n1         M\\n2      Male\\n3       NaN\\n4     Other\\n      ...  \\n95     Male\\n96     Male\\n97     Male\\n98        F\\n99      NaN\\nName: Gender, Length: 100, dtype: object>  user63@example.com    2020/01/01  unknown          NaN\n",
      "64      Eva  30.0  <bound method NDFrame.replace of 0       NaN\\n1         M\\n2      Male\\n3       NaN\\n4     Other\\n      ...  \\n95     Male\\n96     Male\\n97     Male\\n98        F\\n99      NaN\\nName: Gender, Length: 100, dtype: object>  user64@example.com  July 4, 2020    80000    Marketing\n",
      "65    Frank  35.0  <bound method NDFrame.replace of 0       NaN\\n1         M\\n2      Male\\n3       NaN\\n4     Other\\n      ...  \\n95     Male\\n96     Male\\n97     Male\\n98        F\\n99      NaN\\nName: Gender, Length: 100, dtype: object>  user65@example.com           NaN  unknown        Admin\n",
      "66    Grace  30.0  <bound method NDFrame.replace of 0       NaN\\n1         M\\n2      Male\\n3       NaN\\n4     Other\\n      ...  \\n95     Male\\n96     Male\\n97     Male\\n98        F\\n99      NaN\\nName: Gender, Length: 100, dtype: object>  user66@example.com           NaN    70000           HR\n",
      "67   Hannah  40.0  <bound method NDFrame.replace of 0       NaN\\n1         M\\n2      Male\\n3       NaN\\n4     Other\\n      ...  \\n95     Male\\n96     Male\\n97     Male\\n98        F\\n99      NaN\\nName: Gender, Length: 100, dtype: object>  user67@example.com  July 4, 2020    80000    Marketing\n",
      "68      Ivy  40.0  <bound method NDFrame.replace of 0       NaN\\n1         M\\n2      Male\\n3       NaN\\n4     Other\\n      ...  \\n95     Male\\n96     Male\\n97     Male\\n98        F\\n99      NaN\\nName: Gender, Length: 100, dtype: object>  user68@example.com           NaN    70000          NaN\n",
      "69     Jack  35.0  <bound method NDFrame.replace of 0       NaN\\n1         M\\n2      Male\\n3       NaN\\n4     Other\\n      ...  \\n95     Male\\n96     Male\\n97     Male\\n98        F\\n99      NaN\\nName: Gender, Length: 100, dtype: object>  user69@example.com  July 4, 2020    50000  Engineering\n",
      "70    Alice  40.0  <bound method NDFrame.replace of 0       NaN\\n1         M\\n2      Male\\n3       NaN\\n4     Other\\n      ...  \\n95     Male\\n96     Male\\n97     Male\\n98        F\\n99      NaN\\nName: Gender, Length: 100, dtype: object>  user70@example.com    22-06-2022    50000    Marketing\n",
      "71      Bob  35.0  <bound method NDFrame.replace of 0       NaN\\n1         M\\n2      Male\\n3       NaN\\n4     Other\\n      ...  \\n95     Male\\n96     Male\\n97     Male\\n98        F\\n99      NaN\\nName: Gender, Length: 100, dtype: object>  user71@example.com  July 4, 2020    80000  Engineering\n",
      "72  Charlie  40.0  <bound method NDFrame.replace of 0       NaN\\n1         M\\n2      Male\\n3       NaN\\n4     Other\\n      ...  \\n95     Male\\n96     Male\\n97     Male\\n98        F\\n99      NaN\\nName: Gender, Length: 100, dtype: object>  user72@example.com  July 4, 2020    80000        Admin\n",
      "73    David  35.0  <bound method NDFrame.replace of 0       NaN\\n1         M\\n2      Male\\n3       NaN\\n4     Other\\n      ...  \\n95     Male\\n96     Male\\n97     Male\\n98        F\\n99      NaN\\nName: Gender, Length: 100, dtype: object>  user73@example.com           NaN      NaN           HR\n",
      "74      Eva  35.0  <bound method NDFrame.replace of 0       NaN\\n1         M\\n2      Male\\n3       NaN\\n4     Other\\n      ...  \\n95     Male\\n96     Male\\n97     Male\\n98        F\\n99      NaN\\nName: Gender, Length: 100, dtype: object>  user74@example.com           NaN  unknown        Sales\n",
      "75    Frank  35.0  <bound method NDFrame.replace of 0       NaN\\n1         M\\n2      Male\\n3       NaN\\n4     Other\\n      ...  \\n95     Male\\n96     Male\\n97     Male\\n98        F\\n99      NaN\\nName: Gender, Length: 100, dtype: object>  user75@example.com    2021-05-21      NaN           HR\n",
      "76    Grace  35.0  <bound method NDFrame.replace of 0       NaN\\n1         M\\n2      Male\\n3       NaN\\n4     Other\\n      ...  \\n95     Male\\n96     Male\\n97     Male\\n98        F\\n99      NaN\\nName: Gender, Length: 100, dtype: object>  user76@example.com    2021-05-21  unknown    Marketing\n",
      "77   Hannah  25.0  <bound method NDFrame.replace of 0       NaN\\n1         M\\n2      Male\\n3       NaN\\n4     Other\\n      ...  \\n95     Male\\n96     Male\\n97     Male\\n98        F\\n99      NaN\\nName: Gender, Length: 100, dtype: object>  user77@example.com    22-06-2022      NaN  Engineering\n",
      "78      Ivy  40.0  <bound method NDFrame.replace of 0       NaN\\n1         M\\n2      Male\\n3       NaN\\n4     Other\\n      ...  \\n95     Male\\n96     Male\\n97     Male\\n98        F\\n99      NaN\\nName: Gender, Length: 100, dtype: object>  user78@example.com    2021-05-21    70000  Engineering\n",
      "79     Jack  30.0  <bound method NDFrame.replace of 0       NaN\\n1         M\\n2      Male\\n3       NaN\\n4     Other\\n      ...  \\n95     Male\\n96     Male\\n97     Male\\n98        F\\n99      NaN\\nName: Gender, Length: 100, dtype: object>  user79@example.com  July 4, 2020    80000          NaN\n",
      "80    Alice  40.0  <bound method NDFrame.replace of 0       NaN\\n1         M\\n2      Male\\n3       NaN\\n4     Other\\n      ...  \\n95     Male\\n96     Male\\n97     Male\\n98        F\\n99      NaN\\nName: Gender, Length: 100, dtype: object>  user80@example.com           NaN    50000  Engineering\n",
      "81      Bob  30.0  <bound method NDFrame.replace of 0       NaN\\n1         M\\n2      Male\\n3       NaN\\n4     Other\\n      ...  \\n95     Male\\n96     Male\\n97     Male\\n98        F\\n99      NaN\\nName: Gender, Length: 100, dtype: object>  user81@example.com    2021-05-21  unknown          NaN\n",
      "82  Charlie  35.0  <bound method NDFrame.replace of 0       NaN\\n1         M\\n2      Male\\n3       NaN\\n4     Other\\n      ...  \\n95     Male\\n96     Male\\n97     Male\\n98        F\\n99      NaN\\nName: Gender, Length: 100, dtype: object>  user82@example.com    2021-05-21  unknown        Admin\n",
      "83    David  35.0  <bound method NDFrame.replace of 0       NaN\\n1         M\\n2      Male\\n3       NaN\\n4     Other\\n      ...  \\n95     Male\\n96     Male\\n97     Male\\n98        F\\n99      NaN\\nName: Gender, Length: 100, dtype: object>  user83@example.com    22-06-2022    50000        Sales\n",
      "84      Eva  35.0  <bound method NDFrame.replace of 0       NaN\\n1         M\\n2      Male\\n3       NaN\\n4     Other\\n      ...  \\n95     Male\\n96     Male\\n97     Male\\n98        F\\n99      NaN\\nName: Gender, Length: 100, dtype: object>  user84@example.com           NaN      NaN    Marketing\n",
      "85    Frank  30.0  <bound method NDFrame.replace of 0       NaN\\n1         M\\n2      Male\\n3       NaN\\n4     Other\\n      ...  \\n95     Male\\n96     Male\\n97     Male\\n98        F\\n99      NaN\\nName: Gender, Length: 100, dtype: object>  user85@example.com    22-06-2022  unknown          NaN\n",
      "86    Grace  40.0  <bound method NDFrame.replace of 0       NaN\\n1         M\\n2      Male\\n3       NaN\\n4     Other\\n      ...  \\n95     Male\\n96     Male\\n97     Male\\n98        F\\n99      NaN\\nName: Gender, Length: 100, dtype: object>  user86@example.com  July 4, 2020      NaN        Sales\n",
      "87   Hannah  35.0  <bound method NDFrame.replace of 0       NaN\\n1         M\\n2      Male\\n3       NaN\\n4     Other\\n      ...  \\n95     Male\\n96     Male\\n97     Male\\n98        F\\n99      NaN\\nName: Gender, Length: 100, dtype: object>  user87@example.com           NaN    70000  Engineering\n",
      "88      Ivy  35.0  <bound method NDFrame.replace of 0       NaN\\n1         M\\n2      Male\\n3       NaN\\n4     Other\\n      ...  \\n95     Male\\n96     Male\\n97     Male\\n98        F\\n99      NaN\\nName: Gender, Length: 100, dtype: object>  user88@example.com    22-06-2022    80000  Engineering\n",
      "89     Jack  35.0  <bound method NDFrame.replace of 0       NaN\\n1         M\\n2      Male\\n3       NaN\\n4     Other\\n      ...  \\n95     Male\\n96     Male\\n97     Male\\n98        F\\n99      NaN\\nName: Gender, Length: 100, dtype: object>  user89@example.com    2021-05-21    50000        Sales\n",
      "90    Alice  30.0  <bound method NDFrame.replace of 0       NaN\\n1         M\\n2      Male\\n3       NaN\\n4     Other\\n      ...  \\n95     Male\\n96     Male\\n97     Male\\n98        F\\n99      NaN\\nName: Gender, Length: 100, dtype: object>                   _           NaN    80000  Engineering\n",
      "91      Bob  30.0  <bound method NDFrame.replace of 0       NaN\\n1         M\\n2      Male\\n3       NaN\\n4     Other\\n      ...  \\n95     Male\\n96     Male\\n97     Male\\n98        F\\n99      NaN\\nName: Gender, Length: 100, dtype: object>                   _           NaN      NaN        Admin\n",
      "92  Charlie  40.0  <bound method NDFrame.replace of 0       NaN\\n1         M\\n2      Male\\n3       NaN\\n4     Other\\n      ...  \\n95     Male\\n96     Male\\n97     Male\\n98        F\\n99      NaN\\nName: Gender, Length: 100, dtype: object>                   _    2021-05-21  unknown        Admin\n",
      "93    David  30.0  <bound method NDFrame.replace of 0       NaN\\n1         M\\n2      Male\\n3       NaN\\n4     Other\\n      ...  \\n95     Male\\n96     Male\\n97     Male\\n98        F\\n99      NaN\\nName: Gender, Length: 100, dtype: object>                   _    22-06-2022  unknown        Sales\n",
      "94      Eva  30.0  <bound method NDFrame.replace of 0       NaN\\n1         M\\n2      Male\\n3       NaN\\n4     Other\\n      ...  \\n95     Male\\n96     Male\\n97     Male\\n98        F\\n99      NaN\\nName: Gender, Length: 100, dtype: object>                   _    2021-05-21      NaN          NaN\n",
      "95    Frank  35.0  <bound method NDFrame.replace of 0       NaN\\n1         M\\n2      Male\\n3       NaN\\n4     Other\\n      ...  \\n95     Male\\n96     Male\\n97     Male\\n98        F\\n99      NaN\\nName: Gender, Length: 100, dtype: object>                   _           NaN    50000          NaN\n",
      "96    Grace  40.0  <bound method NDFrame.replace of 0       NaN\\n1         M\\n2      Male\\n3       NaN\\n4     Other\\n      ...  \\n95     Male\\n96     Male\\n97     Male\\n98        F\\n99      NaN\\nName: Gender, Length: 100, dtype: object>                   _           NaN    70000        Sales\n",
      "97   Hannah  35.0  <bound method NDFrame.replace of 0       NaN\\n1         M\\n2      Male\\n3       NaN\\n4     Other\\n      ...  \\n95     Male\\n96     Male\\n97     Male\\n98        F\\n99      NaN\\nName: Gender, Length: 100, dtype: object>                   _    2020/01/01    60000          NaN\n",
      "98      Ivy  35.0  <bound method NDFrame.replace of 0       NaN\\n1         M\\n2      Male\\n3       NaN\\n4     Other\\n      ...  \\n95     Male\\n96     Male\\n97     Male\\n98        F\\n99      NaN\\nName: Gender, Length: 100, dtype: object>                   _    2020/01/01    50000          NaN\n",
      "99     Jack  35.0  <bound method NDFrame.replace of 0       NaN\\n1         M\\n2      Male\\n3       NaN\\n4     Other\\n      ...  \\n95     Male\\n96     Male\\n97     Male\\n98        F\\n99      NaN\\nName: Gender, Length: 100, dtype: object>                   _  July 4, 2020    60000        Admin\n"
     ]
    },
    {
     "name": "stderr",
     "output_type": "stream",
     "text": [
      "C:\\Users\\Admin\\AppData\\Local\\Temp\\ipykernel_4352\\2120187321.py:2: FutureWarning: A value is trying to be set on a copy of a DataFrame or Series through chained assignment using an inplace method.\n",
      "The behavior will change in pandas 3.0. This inplace method will never work because the intermediate object on which we are setting values always behaves as a copy.\n",
      "\n",
      "For example, when doing 'df[col].method(value, inplace=True)', try using 'df.method({col: value}, inplace=True)' or df[col] = df[col].method(value) instead, to perform the operation inplace on the original object.\n",
      "\n",
      "\n",
      "  ds[\"Email\"].fillna(\"_\", inplace=True)\n"
     ]
    }
   ],
   "source": [
    "#handling email column\n",
    "ds[\"Email\"].fillna(\"_\", inplace=True)\n",
    "print(ds.to_string())"
   ]
  },
  {
   "cell_type": "code",
   "execution_count": 29,
   "id": "7df09028-b9ea-4ecf-be45-25776284b9d4",
   "metadata": {},
   "outputs": [],
   "source": [
    "#handling date column\n",
    "ds[\"Join_Date\"]=pd.to_numeric(ds[\"Join_Date\"], errors='coerce')"
   ]
  },
  {
   "cell_type": "code",
   "execution_count": 31,
   "id": "00199116-28fa-4351-a2bb-7e250cab49c7",
   "metadata": {},
   "outputs": [
    {
     "data": {
      "text/plain": [
       "array(['Admin', 'Engineering', 'HR', 'Sales', nan, 'Marketing'],\n",
       "      dtype=object)"
      ]
     },
     "execution_count": 31,
     "metadata": {},
     "output_type": "execute_result"
    }
   ],
   "source": [
    "#handling salary column\n",
    "ds[\"Salary\"]=pd.to_numeric(ds[\"Salary\"], errors='coerce')\n",
    "ds[\"Department\"].unique()"
   ]
  },
  {
   "cell_type": "code",
   "execution_count": 38,
   "id": "9a8bab8a-46e1-4cb5-b3f2-3d98ac18ce04",
   "metadata": {},
   "outputs": [],
   "source": [
    "y=ds[\"Department\"].mode()[0]\n",
    "ds[\"Department\"].fillna(y, inplace=True)"
   ]
  },
  {
   "cell_type": "code",
   "execution_count": 40,
   "id": "dbbe0cb9-b15f-4868-b5e0-2c96137b6dba",
   "metadata": {},
   "outputs": [],
   "source": [
    "#save data into new file\n",
    "ds.to_csv(\"cleaned_data\")"
   ]
  }
 ],
 "metadata": {
  "kernelspec": {
   "display_name": "Python [conda env:base] *",
   "language": "python",
   "name": "conda-base-py"
  },
  "language_info": {
   "codemirror_mode": {
    "name": "ipython",
    "version": 3
   },
   "file_extension": ".py",
   "mimetype": "text/x-python",
   "name": "python",
   "nbconvert_exporter": "python",
   "pygments_lexer": "ipython3",
   "version": "3.12.7"
  }
 },
 "nbformat": 4,
 "nbformat_minor": 5
}
